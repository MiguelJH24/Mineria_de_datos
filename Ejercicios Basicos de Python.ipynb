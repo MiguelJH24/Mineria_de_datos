{
  "nbformat": 4,
  "nbformat_minor": 0,
  "metadata": {
    "colab": {
      "name": "Untitled0.ipynb",
      "provenance": [],
      "collapsed_sections": [],
      "authorship_tag": "ABX9TyOmUY6t+NAK5LNj3hgvxdfQ",
      "include_colab_link": true
    },
    "kernelspec": {
      "name": "python3",
      "display_name": "Python 3"
    },
    "language_info": {
      "name": "python"
    }
  },
  "cells": [
    {
      "cell_type": "markdown",
      "metadata": {
        "id": "view-in-github",
        "colab_type": "text"
      },
      "source": [
        "<a href=\"https://colab.research.google.com/github/MiguelJH24/Mineria_de_datos/blob/main/Ejercicios%20Basicos%20de%20Python.ipynb\" target=\"_parent\"><img src=\"https://colab.research.google.com/assets/colab-badge.svg\" alt=\"Open In Colab\"/></a>"
      ]
    },
    {
      "cell_type": "markdown",
      "metadata": {
        "id": "WkX4STSlhMnz"
      },
      "source": [
        "**Ejercicios básicos de Python**\n",
        "\n",
        "\n",
        "*   Alumno: Miguel Angel Jalomo Hernandez\n",
        "*   Matricula: 1857876\n",
        "*   Grupo: 002\n",
        "\n",
        "**Ejercicio 1:**\n",
        "\n",
        "Realiza una variable con tu matricula y realiza una secuencia de imprimir con tu nombre y tu matricula concatenados."
      ]
    },
    {
      "cell_type": "code",
      "metadata": {
        "colab": {
          "base_uri": "https://localhost:8080/"
        },
        "id": "aotLYXS4h9Rv",
        "outputId": "0b0adc07-9ef6-401e-d961-461ce333fe4c"
      },
      "source": [
        "nombre= 'Miguel Angel Jalomo Hernandez'\n",
        "matricula= 1857876\n",
        "print(nombre, matricula)"
      ],
      "execution_count": 1,
      "outputs": [
        {
          "output_type": "stream",
          "text": [
            "Miguel Angel Jalomo Hernandez 1857876\n"
          ],
          "name": "stdout"
        }
      ]
    },
    {
      "cell_type": "markdown",
      "metadata": {
        "id": "C8WEV2JZkGk1"
      },
      "source": [
        "**Ejercicio 2**\n",
        "\n",
        "Pidiendo el input del usuario pide dos números y crea una pequeña calculadora con los operadores básicos de suma, resta, multiplicación, división, y exponente.\n",
        "\n",
        "Utilizando el loop de while\n"
      ]
    },
    {
      "cell_type": "code",
      "metadata": {
        "colab": {
          "base_uri": "https://localhost:8080/"
        },
        "id": "9EiYNBHykXhR",
        "outputId": "ed9d8e3b-d5b2-4441-b13c-f94c51ac6e14"
      },
      "source": [
        "num1=float(input(\"Introduce un numero: \"))\n",
        "num2=float(input(\"Introduce un segundo numero: \"))\n",
        "suma=num1+num2\n",
        "resta=num1-num2\n",
        "mult=num1*num2\n",
        "div=num1/num2\n",
        "exp=num1**num2\n",
        "print(\"La suma de los numeros es: \", suma)\n",
        "print(\"La resta de los numeros es: \", resta)\n",
        "print(\"La multiplicacion de los numeros es: \", mult)\n",
        "print(\"El cociente de los numeros es: \", div)\n",
        "print(\"El primer numero elevado a la potencia del segundo numero es: \", exp)"
      ],
      "execution_count": 3,
      "outputs": [
        {
          "output_type": "stream",
          "text": [
            "Introduce un numero: 1\n",
            "Introduce un segundo numero: 2\n",
            "La suma de los numeros es:  3.0\n",
            "La resta de los numeros es:  -1.0\n",
            "La multiplicacion de los numeros es:  2.0\n",
            "El cociente de los numeros es:  0.5\n",
            "El primer numero elevado a la potencia del segundo numero es:  1.0\n"
          ],
          "name": "stdout"
        }
      ]
    },
    {
      "cell_type": "markdown",
      "metadata": {
        "id": "GaWh0z7Glh0T"
      },
      "source": [
        "**Ejercicio 3**\n",
        "\n",
        "Con loop while o for, realiza una lista de 10 numeros multiplos de 3, y después realiza una función de loop que sume todos los números dentro del arreglo."
      ]
    },
    {
      "cell_type": "code",
      "metadata": {
        "colab": {
          "base_uri": "https://localhost:8080/"
        },
        "id": "cPawEUdwmfRk",
        "outputId": "72fbcac1-2fe9-4fe6-c1e7-58b44d20c6b7"
      },
      "source": [
        "num=[]\n",
        "i=0\n",
        "while len(num)<=10:\n",
        "  if i%3==0:\n",
        "      num.append(i)\n",
        "  i=i+1\n",
        "print(num)\n",
        "sum=0\n",
        "for num in num:\n",
        "    sum=sum+num\n",
        "print(\"La suma de los numeros es \", sum)"
      ],
      "execution_count": 6,
      "outputs": [
        {
          "output_type": "stream",
          "text": [
            "[0, 3, 6, 9, 12, 15, 18, 21, 24, 27, 30]\n",
            "La suma de los numeros es  165\n"
          ],
          "name": "stdout"
        }
      ]
    },
    {
      "cell_type": "markdown",
      "metadata": {
        "id": "pKnErm3rnhzJ"
      },
      "source": [
        "**Ejercicio 4**\n",
        "\n",
        "Con una funcion de if else, revisar si un numero es par o impar."
      ]
    },
    {
      "cell_type": "code",
      "metadata": {
        "colab": {
          "base_uri": "https://localhost:8080/"
        },
        "id": "Fr9Gnmlpnqur",
        "outputId": "43accf98-fb09-45ac-c277-fc4651962421"
      },
      "source": [
        "num=float(input(\"Introduce un numero: \"))\n",
        "if num%2==0:\n",
        "  print(\"El numero es par\")\n",
        "else:\n",
        "  print(\"El numero es impar\")"
      ],
      "execution_count": 7,
      "outputs": [
        {
          "output_type": "stream",
          "text": [
            "Introduce un numero: 22\n",
            "El numero es par\n"
          ],
          "name": "stdout"
        }
      ]
    },
    {
      "cell_type": "markdown",
      "metadata": {
        "id": "eeaXd9HBn-S3"
      },
      "source": [
        "Con una funcion de if else, revisar si un numero es primo o no."
      ]
    },
    {
      "cell_type": "code",
      "metadata": {
        "colab": {
          "base_uri": "https://localhost:8080/"
        },
        "id": "ndVCGXLDoDZp",
        "outputId": "d670f0c2-d4b4-4f32-b593-bcf6d6098d77"
      },
      "source": [
        "num=int(input(\"Introduce un numero: \"))\n",
        "x=0\n",
        "for i in range(2, num):\n",
        "  if num%i==0:\n",
        "    x=x+1\n",
        "  else:\n",
        "      continue\n",
        "if x==0:\n",
        "  print(\"El numero es primo\")\n",
        "else:\n",
        "  print(\"El numero no es primo\")"
      ],
      "execution_count": 10,
      "outputs": [
        {
          "output_type": "stream",
          "text": [
            "Introduce un numero: 12\n",
            "El numero no es primo\n"
          ],
          "name": "stdout"
        }
      ]
    },
    {
      "cell_type": "markdown",
      "metadata": {
        "id": "sWMOKn-LpOqV"
      },
      "source": [
        "**Ejercicio 5**\n",
        "\n",
        "Utilizando diferentes clases en python, crea una calculadora con los operadores basicos de suma, resta, multiplicacion, division y exponente."
      ]
    },
    {
      "cell_type": "code",
      "metadata": {
        "colab": {
          "base_uri": "https://localhost:8080/"
        },
        "id": "SdbN_BZWx2_7",
        "outputId": "3ec0cb86-44ac-41ed-dfaf-e84828f688b0"
      },
      "source": [
        "def suma(num1,num2):\n",
        "    s=num1+num2\n",
        "    return s\n",
        "\n",
        "def resta(num1,num2):\n",
        "    r=num1-num2\n",
        "    return r\n",
        "\n",
        "def mult(num1,num2):\n",
        "    m=num1*num2\n",
        "    return m\n",
        "\n",
        "def div(num1,num2):\n",
        "    d=num1/num2\n",
        "    return d\n",
        "\n",
        "def exp(num1,num2):\n",
        "    e=num1**num2\n",
        "    return e\n",
        "\n",
        "opcion=1\n",
        "while opcion!=6:\n",
        "    opcion=int(input(\"Ingresa una opción:\\n 1. Suma\\n 2. Resta\\n 3. Multiplicación\\n 4. División\\n 5. Exponente\\ 6. Salir \\n\\n >Respuesta:\"))\n",
        "    while opcion<1 or opcion>6:\n",
        "        opcion=int(input(\"Ingresa una opción válida. \\n\\n  >Respuesta: \"))\n",
        "    if opcion==1:\n",
        "        x=float(input(\"Ingresa un número: \"))\n",
        "        y=float(input(\"Ingresa otro número: \"))\n",
        "        su=suma(x,y)\n",
        "        print(\"La suma de los números es: \",su)\n",
        "    if opcion==2:\n",
        "        x=float(input(\"Ingresa un número: \"))\n",
        "        y=float(input(\"Ingresa otro número: \"))\n",
        "        re=resta(x,y)\n",
        "        print(\"La resta de los números es: \",re)\n",
        "    if opcion==3:\n",
        "        x=float(input(\"Ingresa un número: \"))\n",
        "        y=float(input(\"Ingresa otro número: \"))\n",
        "        mu=mul(x,y)\n",
        "        print(\"El produc2to de los números es: \",mu)\n",
        "    if opcion==4:\n",
        "        x=float(input(\"Ingresa el dividendo: \"))\n",
        "        y=float(input(\"Ingresa el divisor: \"))\n",
        "        di=div(x,y)\n",
        "        print(\"El cociente de los números es: \",di)\n",
        "    if opcion==5:\n",
        "        x=float(input(\"Ingresa un número: \"))\n",
        "        y=float(input(\"Ingresa la potencia: \"))\n",
        "        e=exp(x,y)\n",
        "        print(\"El número elevado a la potencia es: \",e)"
      ],
      "execution_count": 24,
      "outputs": [
        {
          "output_type": "stream",
          "text": [
            "Ingresa una opción:\n",
            " 1. Suma\n",
            " 2. Resta\n",
            " 3. Multiplicación\n",
            " 4. División\n",
            " 5. Exponente\\ 6. Salir \n",
            "\n",
            " >Respuesta:1\n",
            "Ingresa un número: 10\n",
            "Ingresa otro número: 12\n",
            "La suma de los números es:  22.0\n",
            "Ingresa una opción:\n",
            " 1. Suma\n",
            " 2. Resta\n",
            " 3. Multiplicación\n",
            " 4. División\n",
            " 5. Exponente\\ 6. Salir \n",
            "\n",
            " >Respuesta:6\n"
          ],
          "name": "stdout"
        }
      ]
    },
    {
      "cell_type": "markdown",
      "metadata": {
        "id": "jZe1zbQ215gx"
      },
      "source": [
        "**Ejercicios con estructuras basicas de Python.**\n",
        "\n",
        "**Tuplas**\n",
        "- Crear una variable flotante, integer, boleana y compleja e imprimir el tipo de variable que es."
      ]
    },
    {
      "cell_type": "code",
      "metadata": {
        "colab": {
          "base_uri": "https://localhost:8080/"
        },
        "id": "zPzOqzMh2ZQe",
        "outputId": "e223a34b-4ba6-408f-8719-91b7c1a1f553"
      },
      "source": [
        "x=0.202058789\n",
        "tipo=type(x)\n",
        "print(\"El numero x es\", x, \"y el tipo de dato es: \", tipo)\n",
        "y=24\n",
        "tipo=type(y)\n",
        "print(\"El numero y es\", y, \"y el tipo de dato es: \", tipo)\n",
        "z=False\n",
        "tipo=type(z)\n",
        "print(\"La variable z es\",z, \"y el tipo de dato es: \", tipo)\n",
        "w=20+24j\n",
        "tipo=type(w)\n",
        "print(\"El numero w es\", w, \"y el tipo de dato es: \", tipo)"
      ],
      "execution_count": 26,
      "outputs": [
        {
          "output_type": "stream",
          "text": [
            "El numero x es 0.202058789 y el tipo de dato es:  <class 'float'>\n",
            "El numero y es 24 y el tipo de dato es:  <class 'int'>\n",
            "La variable z es False y el tipo de dato es:  <class 'bool'>\n",
            "El numero w es (20+24j) y el tipo de dato es:  <class 'complex'>\n"
          ],
          "name": "stdout"
        }
      ]
    },
    {
      "cell_type": "markdown",
      "metadata": {
        "id": "F2nroNgz4_GF"
      },
      "source": [
        "- Crear una tupla con valores enteros imprimir el primer y ultimo valor."
      ]
    },
    {
      "cell_type": "code",
      "metadata": {
        "colab": {
          "base_uri": "https://localhost:8080/"
        },
        "id": "S4WMtD-g5XgQ",
        "outputId": "868fd279-a072-482c-985f-322a0bc4dc6c"
      },
      "source": [
        "x=(2,4,6,9,20,32)\n",
        "primer=x[0]\n",
        "num=len(x)\n",
        "ultimo=x[num-1]\n",
        "print(\"El primer valor es: \", primer)\n",
        "print(\"El ultimo valor es: \", ultimo)"
      ],
      "execution_count": 27,
      "outputs": [
        {
          "output_type": "stream",
          "text": [
            "El primer valor es:  2\n",
            "El ultimo valor es:  32\n"
          ],
          "name": "stdout"
        }
      ]
    },
    {
      "cell_type": "markdown",
      "metadata": {
        "id": "1jZW3jA358PU"
      },
      "source": [
        "- Añadir 3 valores de string a la tupla\n",
        "- Verificar si una variable existe dentro de la tupla"
      ]
    },
    {
      "cell_type": "code",
      "metadata": {
        "colab": {
          "base_uri": "https://localhost:8080/"
        },
        "id": "3ghDcQqq6IkA",
        "outputId": "d2ae554e-a383-4776-a6c5-bd072387017b"
      },
      "source": [
        "x=('Hola','Peter','Parker')\n",
        "print(x)\n",
        "variable=input(\"Variable a buscar en la tupla: \")\n",
        "if variable in x:\n",
        "  print(\"La variable esta en la tupla\")\n",
        "else:\n",
        "  print(\"La variable no esta en la tupla\")"
      ],
      "execution_count": 28,
      "outputs": [
        {
          "output_type": "stream",
          "text": [
            "('Hola', 'Peter', 'Parker')\n",
            "Variable a buscar en la tupla: Peter\n",
            "La variable esta en la tupla\n"
          ],
          "name": "stdout"
        }
      ]
    },
    {
      "cell_type": "markdown",
      "metadata": {
        "id": "WQ2B6BMe6w_m"
      },
      "source": [
        "**Listas**\n",
        "\n",
        "- Crear una lista con 40 elementos aleatorios enteros.\n",
        "- Con una funcion (def) crear dos listas nuevas a partir de la lista creada por numeros aleatorios, en la cual en una esten los elementos pares, y en la otra los elementos impares.\n",
        "- Crear dos variables con la longitud de ambas listas nuevas e imprimir las variables.\n",
        "- Ordenar los elementos de la lista par de mayor a menor, y los de la lista impar de menor a mayor.\n",
        "- Utilizar al menos cuatro de las funciones de listas en python en la lista original de 40 elementos."
      ]
    },
    {
      "cell_type": "code",
      "metadata": {
        "colab": {
          "base_uri": "https://localhost:8080/"
        },
        "id": "vohn2GVzYfT9",
        "outputId": "0b9920df-950a-42e1-bf36-70d9a535d788"
      },
      "source": [
        "import random\n",
        "def par(l):\n",
        "    par=list()\n",
        "    for a in l:\n",
        "        if a%2==0:\n",
        "            par.append(a)\n",
        "    return par\n",
        "\n",
        "def impar(l):\n",
        "    impar=list()\n",
        "    for a in l:\n",
        "        if a%2!=0:\n",
        "            impar.append(a)\n",
        "    return impar\n",
        "\n",
        "l1=list()\n",
        "l2=list()\n",
        "A=range(0,200)\n",
        "l=random.sample(A,40)\n",
        "print(\"La lista es:\",l)\n",
        "l1=par(l)\n",
        "l2=impar(l)\n",
        "print(\"Los pares de la lista son: \",l1,\"\\nLos impares de la lista son: \",l2)\n",
        "lp=len(l1)\n",
        "li=len(l2)\n",
        "print(\"La cantidad de pares es: \",lp,\"\\nLa cantidad de impares es:\",li)\n",
        "l2.sort()\n",
        "l1ord=sorted(l1,reverse=True) #Ayuda de: https://j2logo.com/python/ordenar-una-lista-en-python/\n",
        "l1=l1ord\n",
        "print(\"Los números pares ordenados de mayor a menor: \",l1)\n",
        "print(\"Los números impares ordenados de menor a mayor son: \",l2)\n",
        "s=sum(l)\n",
        "p=s/40\n",
        "l.sort()\n",
        "mn=min(l)\n",
        "mx=max(l)\n",
        "spm=sum(l[37:40])\n",
        "print(\"La suma de los 40 números es: \",s)\n",
        "print(\"El promedio de los 40 números es: \",p)\n",
        "print(\"El menor de los 40 números es: \",mn)\n",
        "print(\"El mayor de los 40 número es: \",mx)\n",
        "print(\"La suma de los 3 números mayores es: \",spm)"
      ],
      "execution_count": 4,
      "outputs": [
        {
          "output_type": "stream",
          "text": [
            "La lista es: [125, 66, 44, 92, 180, 101, 96, 151, 81, 9, 158, 25, 141, 20, 19, 69, 87, 38, 165, 37, 109, 50, 28, 120, 190, 107, 31, 119, 103, 65, 163, 134, 173, 139, 12, 1, 88, 138, 73, 79]\n",
            "Los pares de la lista son:  [66, 44, 92, 180, 96, 158, 20, 38, 50, 28, 120, 190, 134, 12, 88, 138] \n",
            "Los impares de la lista son:  [125, 101, 151, 81, 9, 25, 141, 19, 69, 87, 165, 37, 109, 107, 31, 119, 103, 65, 163, 173, 139, 1, 73, 79]\n",
            "La cantidad de pares es:  16 \n",
            "La cantidad de impares es: 24\n",
            "Los números pares ordenados de mayor a menor:  [190, 180, 158, 138, 134, 120, 96, 92, 88, 66, 50, 44, 38, 28, 20, 12]\n",
            "Los números impares ordenados de menor a mayor son:  [1, 9, 19, 25, 31, 37, 65, 69, 73, 79, 81, 87, 101, 103, 107, 109, 119, 125, 139, 141, 151, 163, 165, 173]\n",
            "La suma de los 40 números es:  3626\n",
            "El promedio de los 40 números es:  90.65\n",
            "El menor de los 40 números es:  1\n",
            "El mayor de los 40 número es:  190\n",
            "La suma de los 3 números mayores es:  543\n"
          ],
          "name": "stdout"
        }
      ]
    },
    {
      "cell_type": "markdown",
      "metadata": {
        "id": "p2x-kd_fYuIn"
      },
      "source": [
        "**Diccionarios**\n",
        "- Crear un diccionario de 6 personas que conozcas con su primer nombre y su edad.\n",
        "- Crear una lista con los valores de la edad y reacomodar la lista de menor a mayor valor.\n",
        "- Usando el diccionario y un loop, imprimir solo los nombres.\n",
        "- Añadir dos personas nuevas a tu diccionario, incluyendo edad."
      ]
    },
    {
      "cell_type": "code",
      "metadata": {
        "colab": {
          "base_uri": "https://localhost:8080/"
        },
        "id": "Ymln1pmuZEXK",
        "outputId": "5b18e562-8764-4e3f-bd67-ad6c4968b118"
      },
      "source": [
        "diccionario={'Miriam':18,'Mario':20,'Manuel':21,'Melanie':19,'Daniel':21,'Lesly':12}\n",
        "edades=list()\n",
        "print(\"La personas con sus edades son: \",diccionario)\n",
        "for e in diccionario:\n",
        "    edades.append(diccionario[e])\n",
        "edades.sort()\n",
        "print(\"Las edades ordenadas de menor a mayor son\",edades)\n",
        "print(\"Los nombres son: \")\n",
        "nombres=diccionario.keys() #Ayuda de: https://uniwebsidad.com/libros/python/capitulo-8/metodos-de-retorno\n",
        "for nombre in nombres:\n",
        "    print(nombre)\n",
        "diccionario['Mac']=26\n",
        "diccionario['Luis']=20\n",
        "print(\"La nueva agenda es: \",diccionario)"
      ],
      "execution_count": 8,
      "outputs": [
        {
          "output_type": "stream",
          "text": [
            "La personas con sus edades son:  {'Miriam': 18, 'Mario': 20, 'Manuel': 21, 'Melanie': 19, 'Daniel': 21, 'Lesly': 12}\n",
            "Las edades ordenadas de menor a mayor son [12, 18, 19, 20, 21, 21]\n",
            "Los nombres son: \n",
            "Miriam\n",
            "Mario\n",
            "Manuel\n",
            "Melanie\n",
            "Daniel\n",
            "Lesly\n",
            "La nueva agenda es:  {'Miriam': 18, 'Mario': 20, 'Manuel': 21, 'Melanie': 19, 'Daniel': 21, 'Lesly': 12, 'Mac': 26, 'Luis': 20}\n"
          ],
          "name": "stdout"
        }
      ]
    },
    {
      "cell_type": "markdown",
      "metadata": {
        "id": "GFEEo4eOb81U"
      },
      "source": [
        "**Sets**\n",
        "- Crea un set con 100 numeros aleatorios enteros del 1 al 25.\n",
        "- Comprueba la longitud de tu set.\n",
        "- Crea una lista de 5 numeros aleatorios del 1 al 10 y comprueba si cada valor aparece en el set inicial."
      ]
    },
    {
      "cell_type": "code",
      "metadata": {
        "colab": {
          "base_uri": "https://localhost:8080/"
        },
        "id": "nMwdkv-8cGLE",
        "outputId": "e34a0bb8-5a26-47a1-e440-5b4cf62fd675"
      },
      "source": [
        "import random\n",
        "set1=set()\n",
        "lrn=list()\n",
        "for i in range(0,100):\n",
        "    rn=random.randint(0,25)\n",
        "    set1.add(rn)\n",
        "print(\"El set es:\",set1)\n",
        "l=len(set1)\n",
        "print(\"La longitud del set es: \",l)\n",
        "for i in range(0,5):\n",
        "    rn=random.randint(0,10)\n",
        "    lrn.append(rn)\n",
        "print(\"La lista de 5 números aleatorios es: \",lrn)\n",
        "for n in lrn:\n",
        "    if n in set1:\n",
        "        print(\"El número \",n,\" está en el set.\")\n",
        "    else:\n",
        "        print(\"El número \",n,\" no está en el set.\")"
      ],
      "execution_count": 9,
      "outputs": [
        {
          "output_type": "stream",
          "text": [
            "El set es: {0, 1, 2, 3, 4, 5, 6, 7, 8, 9, 10, 12, 13, 14, 15, 16, 17, 18, 19, 20, 21, 22, 23, 24, 25}\n",
            "La longitud del set es:  25\n",
            "La lista de 5 números aleatorios es:  [6, 7, 9, 10, 2]\n",
            "El número  6  está en el set.\n",
            "El número  7  está en el set.\n",
            "El número  9  está en el set.\n",
            "El número  10  está en el set.\n",
            "El número  2  está en el set.\n"
          ],
          "name": "stdout"
        }
      ]
    }
  ]
}